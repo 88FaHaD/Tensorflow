{
  "nbformat": 4,
  "nbformat_minor": 0,
  "metadata": {
    "colab": {
      "provenance": [],
      "authorship_tag": "ABX9TyPvWjNBlxcls1U6teWRHTeK",
      "include_colab_link": true
    },
    "kernelspec": {
      "name": "python3",
      "display_name": "Python 3"
    },
    "language_info": {
      "name": "python"
    }
  },
  "cells": [
    {
      "cell_type": "markdown",
      "metadata": {
        "id": "view-in-github",
        "colab_type": "text"
      },
      "source": [
        "<a href=\"https://colab.research.google.com/github/88FaHaD/Tensorflow/blob/main/Tensorflowbasics.ipynb\" target=\"_parent\"><img src=\"https://colab.research.google.com/assets/colab-badge.svg\" alt=\"Open In Colab\"/></a>"
      ]
    },
    {
      "cell_type": "code",
      "execution_count": 356,
      "metadata": {
        "id": "RiE2R0493w6d",
        "colab": {
          "base_uri": "https://localhost:8080/"
        },
        "outputId": "bb3a210e-2681-4e6e-f3f0-6e8ac1634fcc"
      },
      "outputs": [
        {
          "output_type": "stream",
          "name": "stdout",
          "text": [
            "2.15.0\n"
          ]
        }
      ],
      "source": [
        "import tensorflow as tf\n",
        "print(tf.__version__)"
      ]
    },
    {
      "cell_type": "code",
      "source": [
        "#creating tensors with tf.constant\n",
        "scaler=tf.constant(7)\n",
        "scaler"
      ],
      "metadata": {
        "colab": {
          "base_uri": "https://localhost:8080/"
        },
        "id": "RV9FpAZsASrN",
        "outputId": "21eb6951-c978-4227-b5d1-40a6e5191d22"
      },
      "execution_count": 357,
      "outputs": [
        {
          "output_type": "execute_result",
          "data": {
            "text/plain": [
              "<tf.Tensor: shape=(), dtype=int32, numpy=7>"
            ]
          },
          "metadata": {},
          "execution_count": 357
        }
      ]
    },
    {
      "cell_type": "code",
      "source": [
        "# checking number of dimension in a tensor using ndim\n",
        "scaler.ndim\n"
      ],
      "metadata": {
        "colab": {
          "base_uri": "https://localhost:8080/"
        },
        "id": "MWdUsmxGAkrC",
        "outputId": "f6699f43-641f-4ccb-ba33-ae9533180f51"
      },
      "execution_count": 358,
      "outputs": [
        {
          "output_type": "execute_result",
          "data": {
            "text/plain": [
              "0"
            ]
          },
          "metadata": {},
          "execution_count": 358
        }
      ]
    },
    {
      "cell_type": "code",
      "source": [
        "# creating a vector with tf.constant\n",
        "vector=tf.constant([7,10])\n",
        "print(vector)\n",
        "print(vector.ndim)"
      ],
      "metadata": {
        "colab": {
          "base_uri": "https://localhost:8080/"
        },
        "id": "VXmvA1YbA3sd",
        "outputId": "de70f4c9-aa97-4cdc-c80a-5c81463e4d88"
      },
      "execution_count": 359,
      "outputs": [
        {
          "output_type": "stream",
          "name": "stdout",
          "text": [
            "tf.Tensor([ 7 10], shape=(2,), dtype=int32)\n",
            "1\n"
          ]
        }
      ]
    },
    {
      "cell_type": "code",
      "source": [
        "# create a matrix\n",
        "matrix=tf.constant([[10,7],\n",
        "                    [7,10]])\n",
        "print(matrix)\n",
        "print(matrix.ndim)"
      ],
      "metadata": {
        "colab": {
          "base_uri": "https://localhost:8080/"
        },
        "id": "yvBW2BrhBJuS",
        "outputId": "7f9700b3-7a8a-4f38-e53b-7478d289d0e6"
      },
      "execution_count": 360,
      "outputs": [
        {
          "output_type": "stream",
          "name": "stdout",
          "text": [
            "tf.Tensor(\n",
            "[[10  7]\n",
            " [ 7 10]], shape=(2, 2), dtype=int32)\n",
            "2\n"
          ]
        }
      ]
    },
    {
      "cell_type": "code",
      "source": [
        "#create another matrix\n",
        "vector2=tf.constant([[8,10],\n",
        "                     [3.2,3.5],\n",
        "                     [4.,5.]],dtype=tf.float16)\n",
        "print(vector2)\n",
        "print(vector2.ndim)"
      ],
      "metadata": {
        "colab": {
          "base_uri": "https://localhost:8080/"
        },
        "id": "LBfQFKXIB8fc",
        "outputId": "17cc6f43-cdec-4b19-dae0-0580dec8dede"
      },
      "execution_count": 361,
      "outputs": [
        {
          "output_type": "stream",
          "name": "stdout",
          "text": [
            "tf.Tensor(\n",
            "[[ 8.  10. ]\n",
            " [ 3.2  3.5]\n",
            " [ 4.   5. ]], shape=(3, 2), dtype=float16)\n",
            "2\n"
          ]
        }
      ]
    },
    {
      "cell_type": "code",
      "source": [
        "# crating a tensor\n",
        "tensor=tf.constant([[[2,3],\n",
        "                     [4,5],\n",
        "                     [6,8]]])\n",
        "print(tensor)\n",
        "print(tensor.ndim)"
      ],
      "metadata": {
        "colab": {
          "base_uri": "https://localhost:8080/"
        },
        "id": "LJHYpNivDOoi",
        "outputId": "35ac4921-ed49-43f6-8437-a71071b34703"
      },
      "execution_count": 362,
      "outputs": [
        {
          "output_type": "stream",
          "name": "stdout",
          "text": [
            "tf.Tensor(\n",
            "[[[2 3]\n",
            "  [4 5]\n",
            "  [6 8]]], shape=(1, 3, 2), dtype=int32)\n",
            "3\n"
          ]
        }
      ]
    },
    {
      "cell_type": "markdown",
      "source": [
        "# creating tensors using tf.variable"
      ],
      "metadata": {
        "id": "E2NEHWOcLXuV"
      }
    },
    {
      "cell_type": "code",
      "source": [
        "# with tf.varible we create changable tensors\n",
        "changable_tensor=tf.Variable([10,7])\n",
        "changable_tensor"
      ],
      "metadata": {
        "colab": {
          "base_uri": "https://localhost:8080/"
        },
        "id": "57kJyFZgLcQF",
        "outputId": "b2aa87e8-32b4-4ad4-f31a-457b4d92ccc9"
      },
      "execution_count": 363,
      "outputs": [
        {
          "output_type": "execute_result",
          "data": {
            "text/plain": [
              "<tf.Variable 'Variable:0' shape=(2,) dtype=int32, numpy=array([10,  7], dtype=int32)>"
            ]
          },
          "metadata": {},
          "execution_count": 363
        }
      ]
    },
    {
      "cell_type": "code",
      "source": [
        "changable_tensor[0].assign(12)\n",
        "print(changable_tensor)"
      ],
      "metadata": {
        "colab": {
          "base_uri": "https://localhost:8080/"
        },
        "id": "PUATUKwUMsOq",
        "outputId": "d9a5f99e-974f-4fdb-d508-d48a243b1a19"
      },
      "execution_count": 364,
      "outputs": [
        {
          "output_type": "stream",
          "name": "stdout",
          "text": [
            "<tf.Variable 'Variable:0' shape=(2,) dtype=int32, numpy=array([12,  7], dtype=int32)>\n"
          ]
        }
      ]
    },
    {
      "cell_type": "markdown",
      "source": [
        "#CREATING RANDOM TENSORS"
      ],
      "metadata": {
        "id": "eAdN-RSsNiYP"
      }
    },
    {
      "cell_type": "code",
      "source": [
        "#normal distibution\n",
        "random1=tf.random.Generator.from_seed(42)\n",
        "random1=random1.normal(shape=(3,2),mean=5,stddev=1)\n",
        "print(random1)"
      ],
      "metadata": {
        "colab": {
          "base_uri": "https://localhost:8080/"
        },
        "id": "n3KtLcsyNoHP",
        "outputId": "402394db-30f5-4105-961d-da9849aec7c7"
      },
      "execution_count": 365,
      "outputs": [
        {
          "output_type": "stream",
          "name": "stdout",
          "text": [
            "tf.Tensor(\n",
            "[[4.2434196 4.9314528]\n",
            " [5.07595   3.7426157]\n",
            " [4.7680626 3.1892145]], shape=(3, 2), dtype=float32)\n"
          ]
        }
      ]
    },
    {
      "cell_type": "code",
      "source": [
        "#uniform distribuution\n",
        "random2=tf.random.Generator.from_seed(42)\n",
        "random2=random2.uniform(shape=(3,2),minval=2,maxval=10)\n",
        "print(random2)"
      ],
      "metadata": {
        "colab": {
          "base_uri": "https://localhost:8080/"
        },
        "id": "bXyF7e-4QOTh",
        "outputId": "3314debe-4be9-425d-a498-8ccc1aad3176"
      },
      "execution_count": 366,
      "outputs": [
        {
          "output_type": "stream",
          "name": "stdout",
          "text": [
            "tf.Tensor(\n",
            "[[7.9947577 7.8849573]\n",
            " [5.6184635 5.9231853]\n",
            " [3.5114536 6.162202 ]], shape=(3, 2), dtype=float32)\n"
          ]
        }
      ]
    },
    {
      "cell_type": "markdown",
      "source": [
        "# Shufling the order of elements in tensor"
      ],
      "metadata": {
        "id": "ItvXlJ5vR3tw"
      }
    },
    {
      "cell_type": "code",
      "source": [
        "t1=tf.constant([[10,7],\n",
        "                [3,4],\n",
        "                [2,5]])\n",
        "print(t1)\n"
      ],
      "metadata": {
        "colab": {
          "base_uri": "https://localhost:8080/"
        },
        "id": "bXqivcOSSA5r",
        "outputId": "220446ef-6a6b-4b83-8b12-6c950c0cc38a"
      },
      "execution_count": 367,
      "outputs": [
        {
          "output_type": "stream",
          "name": "stdout",
          "text": [
            "tf.Tensor(\n",
            "[[10  7]\n",
            " [ 3  4]\n",
            " [ 2  5]], shape=(3, 2), dtype=int32)\n"
          ]
        }
      ]
    },
    {
      "cell_type": "code",
      "source": [
        "#now using tf.shuffle\n",
        "t2=tf.random.shuffle(t1,seed=42)\n",
        "print(t2)"
      ],
      "metadata": {
        "colab": {
          "base_uri": "https://localhost:8080/"
        },
        "id": "nEVYTQI7Wct0",
        "outputId": "cff4460c-dd8b-4d36-f7a0-46fae1675ada"
      },
      "execution_count": 368,
      "outputs": [
        {
          "output_type": "stream",
          "name": "stdout",
          "text": [
            "tf.Tensor(\n",
            "[[10  7]\n",
            " [ 3  4]\n",
            " [ 2  5]], shape=(3, 2), dtype=int32)\n"
          ]
        }
      ]
    },
    {
      "cell_type": "code",
      "source": [
        "tf.ones([10,7])"
      ],
      "metadata": {
        "colab": {
          "base_uri": "https://localhost:8080/"
        },
        "id": "eEygm0sdfVj4",
        "outputId": "b1a91fb9-ab6e-417a-d1d4-6ba474fe19b3"
      },
      "execution_count": 369,
      "outputs": [
        {
          "output_type": "execute_result",
          "data": {
            "text/plain": [
              "<tf.Tensor: shape=(10, 7), dtype=float32, numpy=\n",
              "array([[1., 1., 1., 1., 1., 1., 1.],\n",
              "       [1., 1., 1., 1., 1., 1., 1.],\n",
              "       [1., 1., 1., 1., 1., 1., 1.],\n",
              "       [1., 1., 1., 1., 1., 1., 1.],\n",
              "       [1., 1., 1., 1., 1., 1., 1.],\n",
              "       [1., 1., 1., 1., 1., 1., 1.],\n",
              "       [1., 1., 1., 1., 1., 1., 1.],\n",
              "       [1., 1., 1., 1., 1., 1., 1.],\n",
              "       [1., 1., 1., 1., 1., 1., 1.],\n",
              "       [1., 1., 1., 1., 1., 1., 1.]], dtype=float32)>"
            ]
          },
          "metadata": {},
          "execution_count": 369
        }
      ]
    },
    {
      "cell_type": "code",
      "source": [
        "tf.zeros([3,4])"
      ],
      "metadata": {
        "colab": {
          "base_uri": "https://localhost:8080/"
        },
        "id": "RcQB-bzhfaf4",
        "outputId": "98b0f2bd-19d3-4301-c8c7-12eb94688434"
      },
      "execution_count": 370,
      "outputs": [
        {
          "output_type": "execute_result",
          "data": {
            "text/plain": [
              "<tf.Tensor: shape=(3, 4), dtype=float32, numpy=\n",
              "array([[0., 0., 0., 0.],\n",
              "       [0., 0., 0., 0.],\n",
              "       [0., 0., 0., 0.]], dtype=float32)>"
            ]
          },
          "metadata": {},
          "execution_count": 370
        }
      ]
    },
    {
      "cell_type": "markdown",
      "source": [
        "# Converting numpy arays into tensors"
      ],
      "metadata": {
        "id": "5S9gszNPfhSQ"
      }
    },
    {
      "cell_type": "code",
      "source": [
        "import numpy as np\n",
        "numpy_array=np.arange(0,20)\n",
        "print(numpy_array)\n",
        "tensor = tf.constant(numpy_array, shape=(5,4))\n",
        "tensor"
      ],
      "metadata": {
        "colab": {
          "base_uri": "https://localhost:8080/"
        },
        "id": "-k828iuAfmqm",
        "outputId": "165b47cb-0925-4ba5-adc0-e6e8e98986ed"
      },
      "execution_count": 371,
      "outputs": [
        {
          "output_type": "stream",
          "name": "stdout",
          "text": [
            "[ 0  1  2  3  4  5  6  7  8  9 10 11 12 13 14 15 16 17 18 19]\n"
          ]
        },
        {
          "output_type": "execute_result",
          "data": {
            "text/plain": [
              "<tf.Tensor: shape=(5, 4), dtype=int64, numpy=\n",
              "array([[ 0,  1,  2,  3],\n",
              "       [ 4,  5,  6,  7],\n",
              "       [ 8,  9, 10, 11],\n",
              "       [12, 13, 14, 15],\n",
              "       [16, 17, 18, 19]])>"
            ]
          },
          "metadata": {},
          "execution_count": 371
        }
      ]
    },
    {
      "cell_type": "code",
      "source": [
        "tensor.ndim"
      ],
      "metadata": {
        "colab": {
          "base_uri": "https://localhost:8080/"
        },
        "id": "80ejZKQahdS9",
        "outputId": "bc006a67-f69e-4440-de12-58d96cf296b6"
      },
      "execution_count": 372,
      "outputs": [
        {
          "output_type": "execute_result",
          "data": {
            "text/plain": [
              "2"
            ]
          },
          "metadata": {},
          "execution_count": 372
        }
      ]
    },
    {
      "cell_type": "markdown",
      "source": [
        "#Geting Information from tensors\n",
        "1 shape\n",
        "2 rank\n",
        "3 axis or dimension\n",
        "4 size"
      ],
      "metadata": {
        "id": "Q8EdrUenk9Rd"
      }
    },
    {
      "cell_type": "code",
      "source": [
        "rank4_tensor=tf.zeros(shape=[2,3,4,5])\n",
        "print(rank4_tensor)"
      ],
      "metadata": {
        "colab": {
          "base_uri": "https://localhost:8080/"
        },
        "id": "K1RMEXjIkAgZ",
        "outputId": "49ff1a54-f28d-406d-db40-edf1a9b4b577"
      },
      "execution_count": 373,
      "outputs": [
        {
          "output_type": "stream",
          "name": "stdout",
          "text": [
            "tf.Tensor(\n",
            "[[[[0. 0. 0. 0. 0.]\n",
            "   [0. 0. 0. 0. 0.]\n",
            "   [0. 0. 0. 0. 0.]\n",
            "   [0. 0. 0. 0. 0.]]\n",
            "\n",
            "  [[0. 0. 0. 0. 0.]\n",
            "   [0. 0. 0. 0. 0.]\n",
            "   [0. 0. 0. 0. 0.]\n",
            "   [0. 0. 0. 0. 0.]]\n",
            "\n",
            "  [[0. 0. 0. 0. 0.]\n",
            "   [0. 0. 0. 0. 0.]\n",
            "   [0. 0. 0. 0. 0.]\n",
            "   [0. 0. 0. 0. 0.]]]\n",
            "\n",
            "\n",
            " [[[0. 0. 0. 0. 0.]\n",
            "   [0. 0. 0. 0. 0.]\n",
            "   [0. 0. 0. 0. 0.]\n",
            "   [0. 0. 0. 0. 0.]]\n",
            "\n",
            "  [[0. 0. 0. 0. 0.]\n",
            "   [0. 0. 0. 0. 0.]\n",
            "   [0. 0. 0. 0. 0.]\n",
            "   [0. 0. 0. 0. 0.]]\n",
            "\n",
            "  [[0. 0. 0. 0. 0.]\n",
            "   [0. 0. 0. 0. 0.]\n",
            "   [0. 0. 0. 0. 0.]\n",
            "   [0. 0. 0. 0. 0.]]]], shape=(2, 3, 4, 5), dtype=float32)\n"
          ]
        }
      ]
    },
    {
      "cell_type": "code",
      "source": [
        "#Size\n",
        "print(rank4_tensor.shape)"
      ],
      "metadata": {
        "colab": {
          "base_uri": "https://localhost:8080/"
        },
        "id": "WYJqHzowFqpD",
        "outputId": "5327e26b-9a42-4087-8120-6e421b537f1a"
      },
      "execution_count": 374,
      "outputs": [
        {
          "output_type": "stream",
          "name": "stdout",
          "text": [
            "(2, 3, 4, 5)\n"
          ]
        }
      ]
    },
    {
      "cell_type": "code",
      "source": [
        "#Rank\n",
        "print(rank4_tensor.ndim)"
      ],
      "metadata": {
        "colab": {
          "base_uri": "https://localhost:8080/"
        },
        "id": "FN-wgjhGGOsI",
        "outputId": "5ea73ae7-1bce-4366-d0de-d62e05a3974f"
      },
      "execution_count": 375,
      "outputs": [
        {
          "output_type": "stream",
          "name": "stdout",
          "text": [
            "4\n"
          ]
        }
      ]
    },
    {
      "cell_type": "code",
      "source": [
        "#axis\n",
        "print(rank4_tensor[0])"
      ],
      "metadata": {
        "colab": {
          "base_uri": "https://localhost:8080/"
        },
        "id": "dvzcMci7G1m5",
        "outputId": "9fe95bcf-0e09-419f-bd61-17eb43f5db4d"
      },
      "execution_count": 376,
      "outputs": [
        {
          "output_type": "stream",
          "name": "stdout",
          "text": [
            "tf.Tensor(\n",
            "[[[0. 0. 0. 0. 0.]\n",
            "  [0. 0. 0. 0. 0.]\n",
            "  [0. 0. 0. 0. 0.]\n",
            "  [0. 0. 0. 0. 0.]]\n",
            "\n",
            " [[0. 0. 0. 0. 0.]\n",
            "  [0. 0. 0. 0. 0.]\n",
            "  [0. 0. 0. 0. 0.]\n",
            "  [0. 0. 0. 0. 0.]]\n",
            "\n",
            " [[0. 0. 0. 0. 0.]\n",
            "  [0. 0. 0. 0. 0.]\n",
            "  [0. 0. 0. 0. 0.]\n",
            "  [0. 0. 0. 0. 0.]]], shape=(3, 4, 5), dtype=float32)\n"
          ]
        }
      ]
    },
    {
      "cell_type": "code",
      "source": [
        "print(tf.size(rank4_tensor))"
      ],
      "metadata": {
        "colab": {
          "base_uri": "https://localhost:8080/"
        },
        "id": "NKmAS_-gHZGw",
        "outputId": "fbd4fa7d-f437-4e1c-908f-f58859d38adf"
      },
      "execution_count": 377,
      "outputs": [
        {
          "output_type": "stream",
          "name": "stdout",
          "text": [
            "tf.Tensor(120, shape=(), dtype=int32)\n"
          ]
        }
      ]
    },
    {
      "cell_type": "markdown",
      "source": [
        "#Indexing and expanding tensors\n"
      ],
      "metadata": {
        "id": "GBrPRclvI20Y"
      }
    },
    {
      "cell_type": "code",
      "source": [
        "# first 2 eleements of each dimension\n",
        "print(rank4_tensor[:2,:2,:2,:2])"
      ],
      "metadata": {
        "colab": {
          "base_uri": "https://localhost:8080/"
        },
        "id": "AJV1PUQoI6fx",
        "outputId": "8769ecc1-4fb3-4b67-c371-30b931d107d3"
      },
      "execution_count": 378,
      "outputs": [
        {
          "output_type": "stream",
          "name": "stdout",
          "text": [
            "tf.Tensor(\n",
            "[[[[0. 0.]\n",
            "   [0. 0.]]\n",
            "\n",
            "  [[0. 0.]\n",
            "   [0. 0.]]]\n",
            "\n",
            "\n",
            " [[[0. 0.]\n",
            "   [0. 0.]]\n",
            "\n",
            "  [[0. 0.]\n",
            "   [0. 0.]]]], shape=(2, 2, 2, 2), dtype=float32)\n"
          ]
        }
      ]
    },
    {
      "cell_type": "code",
      "source": [
        "#get first element from each dimension from each index except final one\n",
        "print(rank4_tensor[:1,:1,:1,])"
      ],
      "metadata": {
        "colab": {
          "base_uri": "https://localhost:8080/"
        },
        "id": "At3KbhwHJkB-",
        "outputId": "7706f935-7dbd-45db-f834-f8082ea838cb"
      },
      "execution_count": 379,
      "outputs": [
        {
          "output_type": "stream",
          "name": "stdout",
          "text": [
            "tf.Tensor([[[[0. 0. 0. 0. 0.]]]], shape=(1, 1, 1, 5), dtype=float32)\n"
          ]
        }
      ]
    },
    {
      "cell_type": "markdown",
      "source": [
        "# Expanding a Tensor"
      ],
      "metadata": {
        "id": "BgxKDn_5KNEf"
      }
    },
    {
      "cell_type": "code",
      "source": [
        "rank2_tensor=tf.constant([[2,10],\n",
        "                         [10,20]])\n",
        "print(rank2_tensor)"
      ],
      "metadata": {
        "colab": {
          "base_uri": "https://localhost:8080/"
        },
        "id": "BebaU6NJKYBl",
        "outputId": "fae926a9-125b-498e-cc31-926eef651b19"
      },
      "execution_count": 380,
      "outputs": [
        {
          "output_type": "stream",
          "name": "stdout",
          "text": [
            "tf.Tensor(\n",
            "[[ 2 10]\n",
            " [10 20]], shape=(2, 2), dtype=int32)\n"
          ]
        }
      ]
    },
    {
      "cell_type": "code",
      "source": [
        "rank2_tensor.shape\n"
      ],
      "metadata": {
        "colab": {
          "base_uri": "https://localhost:8080/"
        },
        "id": "he4k7QNcKu99",
        "outputId": "f4b57a7b-9afb-4095-b3bc-6a3e9d01b4d2"
      },
      "execution_count": 381,
      "outputs": [
        {
          "output_type": "execute_result",
          "data": {
            "text/plain": [
              "TensorShape([2, 2])"
            ]
          },
          "metadata": {},
          "execution_count": 381
        }
      ]
    },
    {
      "cell_type": "code",
      "source": [
        "# geting last item of our rank 2 tensor\n",
        "print(rank2_tensor[0,1],rank2_tensor[1,1])"
      ],
      "metadata": {
        "colab": {
          "base_uri": "https://localhost:8080/"
        },
        "id": "h0g24tg3K29r",
        "outputId": "fa903143-bedc-4841-f4a2-cd94132f52db"
      },
      "execution_count": 382,
      "outputs": [
        {
          "output_type": "stream",
          "name": "stdout",
          "text": [
            "tf.Tensor(10, shape=(), dtype=int32) tf.Tensor(20, shape=(), dtype=int32)\n"
          ]
        }
      ]
    },
    {
      "cell_type": "code",
      "source": [
        "# # geting last item of our rank 2 tensor\n",
        "print(rank2_tensor[:,1])"
      ],
      "metadata": {
        "colab": {
          "base_uri": "https://localhost:8080/"
        },
        "id": "0PP5g6brNg-0",
        "outputId": "ccfcfae8-0d0c-49f6-a0ea-8bbff8587690"
      },
      "execution_count": 383,
      "outputs": [
        {
          "output_type": "stream",
          "name": "stdout",
          "text": [
            "tf.Tensor([10 20], shape=(2,), dtype=int32)\n"
          ]
        }
      ]
    },
    {
      "cell_type": "code",
      "source": [
        "#adding a new dimension\n",
        "rank3_tensor=rank2_tensor[...,tf.newaxis]\n",
        "print(rank3_tensor)"
      ],
      "metadata": {
        "colab": {
          "base_uri": "https://localhost:8080/"
        },
        "id": "jS9zn03MRtyR",
        "outputId": "32853ea2-52c8-4658-d0fe-976a4023e901"
      },
      "execution_count": 384,
      "outputs": [
        {
          "output_type": "stream",
          "name": "stdout",
          "text": [
            "tf.Tensor(\n",
            "[[[ 2]\n",
            "  [10]]\n",
            "\n",
            " [[10]\n",
            "  [20]]], shape=(2, 2, 1), dtype=int32)\n"
          ]
        }
      ]
    },
    {
      "cell_type": "code",
      "source": [
        "rank3_tensor.shape"
      ],
      "metadata": {
        "colab": {
          "base_uri": "https://localhost:8080/"
        },
        "id": "K3IRaH7bSMiT",
        "outputId": "5e5500a3-a354-4ba5-98df-de9bfa57dd66"
      },
      "execution_count": 385,
      "outputs": [
        {
          "output_type": "execute_result",
          "data": {
            "text/plain": [
              "TensorShape([2, 2, 1])"
            ]
          },
          "metadata": {},
          "execution_count": 385
        }
      ]
    },
    {
      "cell_type": "code",
      "source": [
        "rank3_tensor.ndim"
      ],
      "metadata": {
        "colab": {
          "base_uri": "https://localhost:8080/"
        },
        "id": "f0yakd0xSUe0",
        "outputId": "083b52d2-746a-44d5-ef14-a3bfffa893af"
      },
      "execution_count": 386,
      "outputs": [
        {
          "output_type": "execute_result",
          "data": {
            "text/plain": [
              "3"
            ]
          },
          "metadata": {},
          "execution_count": 386
        }
      ]
    },
    {
      "cell_type": "code",
      "source": [
        "tf.size(rank3_tensor)"
      ],
      "metadata": {
        "colab": {
          "base_uri": "https://localhost:8080/"
        },
        "id": "hsPppM_USbJ4",
        "outputId": "783135a8-19ae-4e41-8e44-bbf9cae5f6ae"
      },
      "execution_count": 387,
      "outputs": [
        {
          "output_type": "execute_result",
          "data": {
            "text/plain": [
              "<tf.Tensor: shape=(), dtype=int32, numpy=4>"
            ]
          },
          "metadata": {},
          "execution_count": 387
        }
      ]
    },
    {
      "cell_type": "code",
      "source": [
        "rank3_tensor[:,:,tf.newaxis]"
      ],
      "metadata": {
        "colab": {
          "base_uri": "https://localhost:8080/"
        },
        "id": "QhPyMKwLTThw",
        "outputId": "46c0b44d-4fa4-453a-eae5-e038da6cf60b"
      },
      "execution_count": 388,
      "outputs": [
        {
          "output_type": "execute_result",
          "data": {
            "text/plain": [
              "<tf.Tensor: shape=(2, 2, 1, 1), dtype=int32, numpy=\n",
              "array([[[[ 2]],\n",
              "\n",
              "        [[10]]],\n",
              "\n",
              "\n",
              "       [[[10]],\n",
              "\n",
              "        [[20]]]], dtype=int32)>"
            ]
          },
          "metadata": {},
          "execution_count": 388
        }
      ]
    },
    {
      "cell_type": "markdown",
      "source": [
        "#Alternative way"
      ],
      "metadata": {
        "id": "cDip_eJJT_4y"
      }
    },
    {
      "cell_type": "code",
      "source": [
        "tf.expand_dims(rank2_tensor,axis=-1)"
      ],
      "metadata": {
        "colab": {
          "base_uri": "https://localhost:8080/"
        },
        "id": "NzrjpRhlUDuS",
        "outputId": "dbe5e33b-e93c-4948-95c8-2ca84b6137c4"
      },
      "execution_count": 389,
      "outputs": [
        {
          "output_type": "execute_result",
          "data": {
            "text/plain": [
              "<tf.Tensor: shape=(2, 2, 1), dtype=int32, numpy=\n",
              "array([[[ 2],\n",
              "        [10]],\n",
              "\n",
              "       [[10],\n",
              "        [20]]], dtype=int32)>"
            ]
          },
          "metadata": {},
          "execution_count": 389
        }
      ]
    },
    {
      "cell_type": "code",
      "source": [
        "tf.expand_dims(rank2_tensor,axis=0)"
      ],
      "metadata": {
        "colab": {
          "base_uri": "https://localhost:8080/"
        },
        "id": "4-eFuty6UY1w",
        "outputId": "b95dec9e-2249-42aa-e549-e226ca835cad"
      },
      "execution_count": 390,
      "outputs": [
        {
          "output_type": "execute_result",
          "data": {
            "text/plain": [
              "<tf.Tensor: shape=(1, 2, 2), dtype=int32, numpy=\n",
              "array([[[ 2, 10],\n",
              "        [10, 20]]], dtype=int32)>"
            ]
          },
          "metadata": {},
          "execution_count": 390
        }
      ]
    },
    {
      "cell_type": "markdown",
      "source": [
        "# Tensor operations"
      ],
      "metadata": {
        "id": "t60NeAIbLjec"
      }
    },
    {
      "cell_type": "code",
      "source": [
        "tensor=tf.constant([[10,7],\n",
        "                   [20,13]])\n",
        "print(tensor)"
      ],
      "metadata": {
        "colab": {
          "base_uri": "https://localhost:8080/"
        },
        "id": "ygQhzcUjLohk",
        "outputId": "2c557653-b22e-48d5-9203-1301f7ba8da9"
      },
      "execution_count": 391,
      "outputs": [
        {
          "output_type": "stream",
          "name": "stdout",
          "text": [
            "tf.Tensor(\n",
            "[[10  7]\n",
            " [20 13]], shape=(2, 2), dtype=int32)\n"
          ]
        }
      ]
    },
    {
      "cell_type": "code",
      "source": [
        "tensor + 10"
      ],
      "metadata": {
        "colab": {
          "base_uri": "https://localhost:8080/"
        },
        "id": "HOXmKMZDMcEq",
        "outputId": "339307e3-7456-44ea-e878-1391450b3dd7"
      },
      "execution_count": 392,
      "outputs": [
        {
          "output_type": "execute_result",
          "data": {
            "text/plain": [
              "<tf.Tensor: shape=(2, 2), dtype=int32, numpy=\n",
              "array([[20, 17],\n",
              "       [30, 23]], dtype=int32)>"
            ]
          },
          "metadata": {},
          "execution_count": 392
        }
      ]
    },
    {
      "cell_type": "code",
      "source": [
        "tensor-10"
      ],
      "metadata": {
        "colab": {
          "base_uri": "https://localhost:8080/"
        },
        "id": "Ny70c-67MkOc",
        "outputId": "9e5b58cd-ffaa-47f8-ac43-4e7bbe791b76"
      },
      "execution_count": 393,
      "outputs": [
        {
          "output_type": "execute_result",
          "data": {
            "text/plain": [
              "<tf.Tensor: shape=(2, 2), dtype=int32, numpy=\n",
              "array([[ 0, -3],\n",
              "       [10,  3]], dtype=int32)>"
            ]
          },
          "metadata": {},
          "execution_count": 393
        }
      ]
    },
    {
      "cell_type": "code",
      "source": [
        "tensor / 2"
      ],
      "metadata": {
        "colab": {
          "base_uri": "https://localhost:8080/"
        },
        "id": "-A4oWdCnMqNC",
        "outputId": "fecf93e2-7879-495d-9a54-738de4247d2b"
      },
      "execution_count": 394,
      "outputs": [
        {
          "output_type": "execute_result",
          "data": {
            "text/plain": [
              "<tf.Tensor: shape=(2, 2), dtype=float64, numpy=\n",
              "array([[ 5. ,  3.5],\n",
              "       [10. ,  6.5]])>"
            ]
          },
          "metadata": {},
          "execution_count": 394
        }
      ]
    },
    {
      "cell_type": "code",
      "source": [
        "tensor * 2"
      ],
      "metadata": {
        "colab": {
          "base_uri": "https://localhost:8080/"
        },
        "id": "UKfBH1Y1Mufq",
        "outputId": "c4eec8ae-5632-4fdf-b261-8d4bf38c9ea6"
      },
      "execution_count": 395,
      "outputs": [
        {
          "output_type": "execute_result",
          "data": {
            "text/plain": [
              "<tf.Tensor: shape=(2, 2), dtype=int32, numpy=\n",
              "array([[20, 14],\n",
              "       [40, 26]], dtype=int32)>"
            ]
          },
          "metadata": {},
          "execution_count": 395
        }
      ]
    },
    {
      "cell_type": "markdown",
      "source": [
        "#Using built in tensor math methods"
      ],
      "metadata": {
        "id": "7NW7D2-xMw4q"
      }
    },
    {
      "cell_type": "code",
      "source": [
        "tf.multiply(tensor,10)"
      ],
      "metadata": {
        "colab": {
          "base_uri": "https://localhost:8080/"
        },
        "id": "3PweeqULM2Mz",
        "outputId": "d71ba140-359c-406f-99fd-0c563d6eeeac"
      },
      "execution_count": 396,
      "outputs": [
        {
          "output_type": "execute_result",
          "data": {
            "text/plain": [
              "<tf.Tensor: shape=(2, 2), dtype=int32, numpy=\n",
              "array([[100,  70],\n",
              "       [200, 130]], dtype=int32)>"
            ]
          },
          "metadata": {},
          "execution_count": 396
        }
      ]
    },
    {
      "cell_type": "code",
      "source": [
        "tf.add(tensor,10)"
      ],
      "metadata": {
        "colab": {
          "base_uri": "https://localhost:8080/"
        },
        "id": "UEq3sDJRM9Gn",
        "outputId": "151b227b-26c3-4d45-e8d0-7dbf95eddf49"
      },
      "execution_count": 397,
      "outputs": [
        {
          "output_type": "execute_result",
          "data": {
            "text/plain": [
              "<tf.Tensor: shape=(2, 2), dtype=int32, numpy=\n",
              "array([[20, 17],\n",
              "       [30, 23]], dtype=int32)>"
            ]
          },
          "metadata": {},
          "execution_count": 397
        }
      ]
    },
    {
      "cell_type": "code",
      "source": [
        "tf.subtract(tensor,10)"
      ],
      "metadata": {
        "colab": {
          "base_uri": "https://localhost:8080/"
        },
        "id": "ZtF69TRaNE-Q",
        "outputId": "ff429b32-b4f1-43e3-a905-66a0a7011996"
      },
      "execution_count": 398,
      "outputs": [
        {
          "output_type": "execute_result",
          "data": {
            "text/plain": [
              "<tf.Tensor: shape=(2, 2), dtype=int32, numpy=\n",
              "array([[ 0, -3],\n",
              "       [10,  3]], dtype=int32)>"
            ]
          },
          "metadata": {},
          "execution_count": 398
        }
      ]
    },
    {
      "cell_type": "code",
      "source": [
        "tf.divide(tensor,10)"
      ],
      "metadata": {
        "colab": {
          "base_uri": "https://localhost:8080/"
        },
        "id": "xT56HLnLNJjp",
        "outputId": "a7b01412-4841-469e-f857-dc65c91458dc"
      },
      "execution_count": 399,
      "outputs": [
        {
          "output_type": "execute_result",
          "data": {
            "text/plain": [
              "<tf.Tensor: shape=(2, 2), dtype=float64, numpy=\n",
              "array([[1. , 0.7],\n",
              "       [2. , 1.3]])>"
            ]
          },
          "metadata": {},
          "execution_count": 399
        }
      ]
    },
    {
      "cell_type": "markdown",
      "source": [
        "#Matrix Multiplication"
      ],
      "metadata": {
        "id": "sZOPaQPOQFJL"
      }
    },
    {
      "cell_type": "code",
      "source": [
        "tensor1=tf.constant([[[1,2,5],\n",
        "                      [7,2,1],\n",
        "                      [3,3,3]]])\n",
        "tensor2=tf.constant([[3,5],\n",
        "                     [6,7],\n",
        "                     [1,8]])"
      ],
      "metadata": {
        "id": "2XqX7O5gPR-h"
      },
      "execution_count": 400,
      "outputs": []
    },
    {
      "cell_type": "code",
      "source": [
        "tensor3=tf.matmul(tensor1,tensor2)\n",
        "tensor3"
      ],
      "metadata": {
        "colab": {
          "base_uri": "https://localhost:8080/"
        },
        "id": "IMtiryrSQIy4",
        "outputId": "ce329b09-b837-4c05-c603-368d29797e24"
      },
      "execution_count": 401,
      "outputs": [
        {
          "output_type": "execute_result",
          "data": {
            "text/plain": [
              "<tf.Tensor: shape=(1, 3, 2), dtype=int32, numpy=\n",
              "array([[[20, 59],\n",
              "        [34, 57],\n",
              "        [30, 60]]], dtype=int32)>"
            ]
          },
          "metadata": {},
          "execution_count": 401
        }
      ]
    },
    {
      "cell_type": "code",
      "source": [
        "tensor1=tf.constant([[3,5],\n",
        "                     [6,7],\n",
        "                     [1,8]])\n",
        "tensor2=tf.constant([[[1,2,5],\n",
        "                      [7,2,1],\n",
        "                      [3,3,3]]])"
      ],
      "metadata": {
        "id": "awuf_sQ1Q6Lp"
      },
      "execution_count": 402,
      "outputs": []
    },
    {
      "cell_type": "markdown",
      "source": [
        "# Note\n",
        " For matrix multiplication to be valid, the last dimension of the first tensor must match the second-to-last dimension of the second tensor."
      ],
      "metadata": {
        "id": "i1162AGATHHo"
      }
    },
    {
      "cell_type": "code",
      "source": [
        "tensor1=tf.reshape(tensor1,(2,3))"
      ],
      "metadata": {
        "id": "13q4Pqw_RAxv"
      },
      "execution_count": 403,
      "outputs": []
    },
    {
      "cell_type": "code",
      "source": [
        "tensor3=tf.matmul(tensor1,tensor2)\n",
        "tensor3"
      ],
      "metadata": {
        "colab": {
          "base_uri": "https://localhost:8080/"
        },
        "id": "_405D09wTDTD",
        "outputId": "f14ceefa-b4a2-475a-9b5f-1ac4aef0d7da"
      },
      "execution_count": 404,
      "outputs": [
        {
          "output_type": "execute_result",
          "data": {
            "text/plain": [
              "<tf.Tensor: shape=(1, 2, 3), dtype=int32, numpy=\n",
              "array([[[56, 34, 38],\n",
              "        [38, 40, 60]]], dtype=int32)>"
            ]
          },
          "metadata": {},
          "execution_count": 404
        }
      ]
    },
    {
      "cell_type": "markdown",
      "source": [
        "#Transpose"
      ],
      "metadata": {
        "id": "q6uSq46DUtfx"
      }
    },
    {
      "cell_type": "code",
      "source": [
        "tensor1=tf.constant([[3,5],\n",
        "                     [6,7],\n",
        "                     [1,8]])\n",
        "tensor2=tf.constant([[1,2,5],\n",
        "                     [7,2,1],\n",
        "                     [3,3,3]])\n"
      ],
      "metadata": {
        "id": "oJbNZuzHUzgj"
      },
      "execution_count": 405,
      "outputs": []
    },
    {
      "cell_type": "code",
      "source": [
        "tensor3=tf.matmul(tf.transpose(tensor1),tensor2)\n",
        "tensor3"
      ],
      "metadata": {
        "colab": {
          "base_uri": "https://localhost:8080/"
        },
        "id": "zUuKvGNTVLs2",
        "outputId": "afccc263-9dc3-403f-e8ca-159fd6fb936a"
      },
      "execution_count": 406,
      "outputs": [
        {
          "output_type": "execute_result",
          "data": {
            "text/plain": [
              "<tf.Tensor: shape=(2, 3), dtype=int32, numpy=\n",
              "array([[48, 21, 24],\n",
              "       [78, 48, 56]], dtype=int32)>"
            ]
          },
          "metadata": {},
          "execution_count": 406
        }
      ]
    },
    {
      "cell_type": "markdown",
      "source": [
        "# Using tensordot"
      ],
      "metadata": {
        "id": "fIjFYaiMa3Wi"
      }
    },
    {
      "cell_type": "code",
      "source": [
        "tensor4=tf.tensordot(tf.transpose(tensor1),tensor2,axes=1)\n",
        "print(tensor4)"
      ],
      "metadata": {
        "colab": {
          "base_uri": "https://localhost:8080/"
        },
        "id": "YE4dvbBYa7TW",
        "outputId": "6bb9bbd2-43e4-4a94-c253-1697546d5d3c"
      },
      "execution_count": 407,
      "outputs": [
        {
          "output_type": "stream",
          "name": "stdout",
          "text": [
            "tf.Tensor(\n",
            "[[48 21 24]\n",
            " [78 48 56]], shape=(2, 3), dtype=int32)\n"
          ]
        }
      ]
    },
    {
      "cell_type": "markdown",
      "source": [
        "# Changing datatype of tensors"
      ],
      "metadata": {
        "id": "DnIc4-nwbjl8"
      }
    },
    {
      "cell_type": "code",
      "source": [
        "t1=tf.constant([1.7,7.4])\n",
        "t1.dtype"
      ],
      "metadata": {
        "colab": {
          "base_uri": "https://localhost:8080/"
        },
        "id": "7XvIwdaUbnZ4",
        "outputId": "36d76003-f5dc-48a7-e716-6725c8faadf8"
      },
      "execution_count": 408,
      "outputs": [
        {
          "output_type": "execute_result",
          "data": {
            "text/plain": [
              "tf.float32"
            ]
          },
          "metadata": {},
          "execution_count": 408
        }
      ]
    },
    {
      "cell_type": "code",
      "source": [
        "t2=tf.constant([1,7])\n",
        "t2.dtype"
      ],
      "metadata": {
        "colab": {
          "base_uri": "https://localhost:8080/"
        },
        "id": "MDi66kY4cHlq",
        "outputId": "36190b03-fbf4-4ac7-d5b4-41b1cef23d47"
      },
      "execution_count": 409,
      "outputs": [
        {
          "output_type": "execute_result",
          "data": {
            "text/plain": [
              "tf.int32"
            ]
          },
          "metadata": {},
          "execution_count": 409
        }
      ]
    },
    {
      "cell_type": "code",
      "source": [
        "t1=tf.cast(t1,dtype=tf.float16)\n",
        "t1.dtype"
      ],
      "metadata": {
        "colab": {
          "base_uri": "https://localhost:8080/"
        },
        "id": "dwaYHbnJcLjk",
        "outputId": "308e7604-39d5-4c0a-b7d3-19b36322750c"
      },
      "execution_count": 410,
      "outputs": [
        {
          "output_type": "execute_result",
          "data": {
            "text/plain": [
              "tf.float16"
            ]
          },
          "metadata": {},
          "execution_count": 410
        }
      ]
    },
    {
      "cell_type": "code",
      "source": [
        "t2=tf.cast(t2,dtype=tf.int16)\n",
        "t2.dtype"
      ],
      "metadata": {
        "colab": {
          "base_uri": "https://localhost:8080/"
        },
        "id": "NNM5dvjNelqP",
        "outputId": "aa6b2ae9-1020-47f3-a1b2-cf1e071efba3"
      },
      "execution_count": 411,
      "outputs": [
        {
          "output_type": "execute_result",
          "data": {
            "text/plain": [
              "tf.int16"
            ]
          },
          "metadata": {},
          "execution_count": 411
        }
      ]
    },
    {
      "cell_type": "markdown",
      "source": [
        "#Tensor agregation\n"
      ],
      "metadata": {
        "id": "EkqvImuKvASV"
      }
    },
    {
      "cell_type": "code",
      "source": [
        "tensor=tf.constant([-7,-10])\n",
        "tf.abs(tensor)"
      ],
      "metadata": {
        "colab": {
          "base_uri": "https://localhost:8080/"
        },
        "id": "LoHIauiLvCx1",
        "outputId": "96456c80-aee4-4edc-91d6-c08c2ddc11f0"
      },
      "execution_count": 412,
      "outputs": [
        {
          "output_type": "execute_result",
          "data": {
            "text/plain": [
              "<tf.Tensor: shape=(2,), dtype=int32, numpy=array([ 7, 10], dtype=int32)>"
            ]
          },
          "metadata": {},
          "execution_count": 412
        }
      ]
    },
    {
      "cell_type": "code",
      "source": [
        "tensor=tf.random.Generator.from_seed(42)\n",
        "tensor_uniform=tensor.uniform(shape=(50,3),minval=1,maxval=150)\n"
      ],
      "metadata": {
        "id": "Vtf2b-72vUpp"
      },
      "execution_count": 413,
      "outputs": []
    },
    {
      "cell_type": "code",
      "source": [
        "tensor_uniform"
      ],
      "metadata": {
        "colab": {
          "base_uri": "https://localhost:8080/"
        },
        "id": "ORhQY8aqwkQM",
        "outputId": "2f6a60b2-c159-4bb9-f17e-36eec7774717"
      },
      "execution_count": 414,
      "outputs": [
        {
          "output_type": "execute_result",
          "data": {
            "text/plain": [
              "<tf.Tensor: shape=(50, 3), dtype=float32, numpy=\n",
              "array([[112.65236  , 110.60733  ,  68.39388  ],\n",
              "       [ 74.06933  ,  29.150824 ,  78.52101  ],\n",
              "       [131.17952  ,  70.91336  ,  96.25955  ],\n",
              "       [ 97.36005  , 144.40767  ,  62.103653 ],\n",
              "       [129.94571  , 133.05838  ,  42.41564  ],\n",
              "       [132.98067  ,  33.479645 ,  44.381523 ],\n",
              "       [  6.8912544, 122.23818  , 122.2838   ],\n",
              "       [ 78.74922  ,  19.620417 ,  82.77839  ],\n",
              "       [116.56102  ,  93.1476   ,  38.154972 ],\n",
              "       [134.11934  ,  43.350037 , 105.79565  ],\n",
              "       [ 40.069843 ,  67.039215 ,  70.50328  ],\n",
              "       [  9.9129925,  60.746323 , 104.245605 ],\n",
              "       [ 20.14179  ,  34.92785  ,  51.199913 ],\n",
              "       [ 80.40416  ,  89.12345  ,  33.389984 ],\n",
              "       [ 80.29892  ,   8.671025 ,   6.8876133],\n",
              "       [ 63.381645 , 118.620476 ,   7.532576 ],\n",
              "       [145.4642   ,  74.18311  ,  56.222363 ],\n",
              "       [ 50.967743 ,   5.113651 , 149.63869  ],\n",
              "       [ 78.737404 ,  31.257685 , 108.01995  ],\n",
              "       [126.55273  , 143.18466  , 135.26715  ],\n",
              "       [ 94.63055  ,  13.842983 ,  85.63093  ],\n",
              "       [ 43.857876 ,  29.055086 , 100.21485  ],\n",
              "       [ 93.2341   ,   7.589877 ,  74.94367  ],\n",
              "       [ 97.475426 ,  54.00946  ,  48.730488 ],\n",
              "       [ 51.220463 , 111.12682  ,  25.603024 ],\n",
              "       [ 62.91823  , 118.17098  ,  69.39013  ],\n",
              "       [ 64.602646 ,  84.89357  ,   7.131435 ],\n",
              "       [113.22702  ,  28.289713 ,  46.903255 ],\n",
              "       [ 46.419575 ,  13.831437 , 113.13863  ],\n",
              "       [ 64.19888  , 118.374825 ,  18.30113  ],\n",
              "       [ 53.53008  ,  76.5711   ,  25.53693  ],\n",
              "       [ 81.62225  ,  86.90947  ,  26.097984 ],\n",
              "       [120.3133   ,  52.37971  ,  46.796543 ],\n",
              "       [145.54146  ,  65.57151  ,  78.22616  ],\n",
              "       [128.47803  ,  33.72402  , 114.37588  ],\n",
              "       [  8.096703 ,  77.461334 , 146.036    ],\n",
              "       [ 50.679497 ,   5.6969433,  44.02317  ],\n",
              "       [ 88.51668  , 113.74784  , 106.19659  ],\n",
              "       [ 84.27305  ,  60.732468 , 125.825066 ],\n",
              "       [115.00251  ,  81.50356  ,  79.143875 ],\n",
              "       [134.5846   ,  64.38228  , 102.67999  ],\n",
              "       [ 27.074408 ,  63.031693 , 124.99047  ],\n",
              "       [ 47.736233 ,  23.538116 ,  36.178734 ],\n",
              "       [ 85.11325  ,  67.527855 ,  62.12948  ],\n",
              "       [ 91.641655 ,  76.9503   ,  47.254627 ],\n",
              "       [ 12.761727 ,  87.097305 ,  25.192911 ],\n",
              "       [ 95.01453  , 109.09746  , 126.05642  ],\n",
              "       [134.9268   ,  97.8215   ,  15.311524 ],\n",
              "       [ 10.775542 ,  90.86129  ,  79.40091  ],\n",
              "       [ 44.602753 ,  55.873978 , 136.96773  ]], dtype=float32)>"
            ]
          },
          "metadata": {},
          "execution_count": 414
        }
      ]
    },
    {
      "cell_type": "code",
      "source": [
        "#minimum\n",
        "tf.reduce_min(tenosr_uniform)"
      ],
      "metadata": {
        "colab": {
          "base_uri": "https://localhost:8080/"
        },
        "id": "AbrnDrUKwou1",
        "outputId": "4182ef5b-3c03-4264-acae-75e5866fb419"
      },
      "execution_count": 415,
      "outputs": [
        {
          "output_type": "execute_result",
          "data": {
            "text/plain": [
              "<tf.Tensor: shape=(), dtype=float32, numpy=5.113651>"
            ]
          },
          "metadata": {},
          "execution_count": 415
        }
      ]
    },
    {
      "cell_type": "code",
      "source": [
        "# maximum\n",
        "tf.reduce_max(tenosr_uniform)"
      ],
      "metadata": {
        "colab": {
          "base_uri": "https://localhost:8080/"
        },
        "id": "8OvLVgAJwraJ",
        "outputId": "6f4e347d-1e18-450f-ca79-ad4a30ed1a55"
      },
      "execution_count": 416,
      "outputs": [
        {
          "output_type": "execute_result",
          "data": {
            "text/plain": [
              "<tf.Tensor: shape=(), dtype=float32, numpy=149.63869>"
            ]
          },
          "metadata": {},
          "execution_count": 416
        }
      ]
    },
    {
      "cell_type": "code",
      "source": [
        "#mean\n",
        "tf.reduce_mean(tensor_uniform)"
      ],
      "metadata": {
        "colab": {
          "base_uri": "https://localhost:8080/"
        },
        "id": "GW8UM_o_w7MD",
        "outputId": "d78d99a0-cf1d-4e9c-802c-655c1e7ea20a"
      },
      "execution_count": 417,
      "outputs": [
        {
          "output_type": "execute_result",
          "data": {
            "text/plain": [
              "<tf.Tensor: shape=(), dtype=float32, numpy=73.38279>"
            ]
          },
          "metadata": {},
          "execution_count": 417
        }
      ]
    },
    {
      "cell_type": "code",
      "source": [
        "#sum\n",
        "tf.reduce_sum(tensor_uniform)"
      ],
      "metadata": {
        "colab": {
          "base_uri": "https://localhost:8080/"
        },
        "id": "L7OSbE6FxrX3",
        "outputId": "a5808dd9-9da2-4606-92fa-78bbbe2ef871"
      },
      "execution_count": 418,
      "outputs": [
        {
          "output_type": "execute_result",
          "data": {
            "text/plain": [
              "<tf.Tensor: shape=(), dtype=float32, numpy=11007.419>"
            ]
          },
          "metadata": {},
          "execution_count": 418
        }
      ]
    },
    {
      "cell_type": "code",
      "source": [
        "#variance\n",
        "tf.math.reduce_variance(tensor_uniform)"
      ],
      "metadata": {
        "colab": {
          "base_uri": "https://localhost:8080/"
        },
        "id": "B9tvhLAiyDmv",
        "outputId": "19c504d3-a6ea-4e38-a81e-08c8b8dbc1ce"
      },
      "execution_count": 419,
      "outputs": [
        {
          "output_type": "execute_result",
          "data": {
            "text/plain": [
              "<tf.Tensor: shape=(), dtype=float32, numpy=1571.7205>"
            ]
          },
          "metadata": {},
          "execution_count": 419
        }
      ]
    },
    {
      "cell_type": "code",
      "source": [
        "#standard deviation\n",
        "tf.math.reduce_std(tensor_uniform)"
      ],
      "metadata": {
        "colab": {
          "base_uri": "https://localhost:8080/"
        },
        "id": "8oTSipVSyVD0",
        "outputId": "cbaaf157-4de3-4cc4-9112-e0943a761e37"
      },
      "execution_count": 420,
      "outputs": [
        {
          "output_type": "execute_result",
          "data": {
            "text/plain": [
              "<tf.Tensor: shape=(), dtype=float32, numpy=39.644928>"
            ]
          },
          "metadata": {},
          "execution_count": 420
        }
      ]
    },
    {
      "cell_type": "markdown",
      "source": [
        "#Finding positional minimum and maximum"
      ],
      "metadata": {
        "id": "KwywQgc_3g2n"
      }
    },
    {
      "cell_type": "code",
      "source": [
        "tf.random.set_seed(42)\n",
        "tensor=tf.random.uniform(shape=[50])\n",
        "tensor"
      ],
      "metadata": {
        "colab": {
          "base_uri": "https://localhost:8080/"
        },
        "id": "YDBK8ku23tug",
        "outputId": "5cd94ed9-60a4-4b7d-e08a-bd9f5e31edee"
      },
      "execution_count": 421,
      "outputs": [
        {
          "output_type": "execute_result",
          "data": {
            "text/plain": [
              "<tf.Tensor: shape=(50,), dtype=float32, numpy=\n",
              "array([0.6645621 , 0.44100678, 0.3528825 , 0.46448255, 0.03366041,\n",
              "       0.68467236, 0.74011743, 0.8724445 , 0.22632635, 0.22319686,\n",
              "       0.3103881 , 0.7223358 , 0.13318717, 0.5480639 , 0.5746088 ,\n",
              "       0.8996835 , 0.00946367, 0.5212307 , 0.6345445 , 0.1993283 ,\n",
              "       0.72942245, 0.54583454, 0.10756552, 0.6767061 , 0.6602763 ,\n",
              "       0.33695042, 0.60141766, 0.21062577, 0.8527372 , 0.44062173,\n",
              "       0.9485276 , 0.23752594, 0.81179297, 0.5263394 , 0.494308  ,\n",
              "       0.21612847, 0.8457197 , 0.8718841 , 0.3083862 , 0.6868038 ,\n",
              "       0.23764038, 0.7817228 , 0.9671384 , 0.06870162, 0.79873943,\n",
              "       0.66028714, 0.5871513 , 0.16461694, 0.7381023 , 0.32054043],\n",
              "      dtype=float32)>"
            ]
          },
          "metadata": {},
          "execution_count": 421
        }
      ]
    },
    {
      "cell_type": "code",
      "source": [
        "tf.argmax(tensor) # gives the postional value"
      ],
      "metadata": {
        "colab": {
          "base_uri": "https://localhost:8080/"
        },
        "id": "D-xKEPEh47D2",
        "outputId": "e83ce32b-e1f5-40fe-90e0-203b083df25a"
      },
      "execution_count": 422,
      "outputs": [
        {
          "output_type": "execute_result",
          "data": {
            "text/plain": [
              "<tf.Tensor: shape=(), dtype=int64, numpy=42>"
            ]
          },
          "metadata": {},
          "execution_count": 422
        }
      ]
    },
    {
      "cell_type": "code",
      "source": [
        "tensor[tf.argmax(tensor)] #gives the value which is present t that position"
      ],
      "metadata": {
        "colab": {
          "base_uri": "https://localhost:8080/"
        },
        "id": "XbFdw2y85YRP",
        "outputId": "2ac9839f-c106-4ecc-e963-ddd201407bb2"
      },
      "execution_count": 423,
      "outputs": [
        {
          "output_type": "execute_result",
          "data": {
            "text/plain": [
              "<tf.Tensor: shape=(), dtype=float32, numpy=0.9671384>"
            ]
          },
          "metadata": {},
          "execution_count": 423
        }
      ]
    },
    {
      "cell_type": "code",
      "source": [
        "tf.reduce_max(tensor) # gives the value at thatcpositon"
      ],
      "metadata": {
        "colab": {
          "base_uri": "https://localhost:8080/"
        },
        "id": "8Nz9qXKM5dg7",
        "outputId": "747a3589-2ddf-449f-9970-4999c59d6877"
      },
      "execution_count": 424,
      "outputs": [
        {
          "output_type": "execute_result",
          "data": {
            "text/plain": [
              "<tf.Tensor: shape=(), dtype=float32, numpy=0.9671384>"
            ]
          },
          "metadata": {},
          "execution_count": 424
        }
      ]
    },
    {
      "cell_type": "code",
      "source": [
        "tf.argmin(tensor)"
      ],
      "metadata": {
        "colab": {
          "base_uri": "https://localhost:8080/"
        },
        "id": "Iqrwkmtb6m0o",
        "outputId": "824780b2-c783-4454-c739-d33b7a780252"
      },
      "execution_count": 425,
      "outputs": [
        {
          "output_type": "execute_result",
          "data": {
            "text/plain": [
              "<tf.Tensor: shape=(), dtype=int64, numpy=16>"
            ]
          },
          "metadata": {},
          "execution_count": 425
        }
      ]
    },
    {
      "cell_type": "code",
      "source": [
        "tensor[tf.argmin(tensor)]"
      ],
      "metadata": {
        "colab": {
          "base_uri": "https://localhost:8080/"
        },
        "id": "tQsXJIkS6qd9",
        "outputId": "60bf96fd-7935-4cee-e753-85976153f564"
      },
      "execution_count": 426,
      "outputs": [
        {
          "output_type": "execute_result",
          "data": {
            "text/plain": [
              "<tf.Tensor: shape=(), dtype=float32, numpy=0.009463668>"
            ]
          },
          "metadata": {},
          "execution_count": 426
        }
      ]
    },
    {
      "cell_type": "code",
      "source": [
        "tf.reduce_min(tensor)"
      ],
      "metadata": {
        "colab": {
          "base_uri": "https://localhost:8080/"
        },
        "id": "ufZSTwmm64GI",
        "outputId": "7ec9f0e2-76b4-43e9-9508-cce71ba5d844"
      },
      "execution_count": 427,
      "outputs": [
        {
          "output_type": "execute_result",
          "data": {
            "text/plain": [
              "<tf.Tensor: shape=(), dtype=float32, numpy=0.009463668>"
            ]
          },
          "metadata": {},
          "execution_count": 427
        }
      ]
    },
    {
      "cell_type": "markdown",
      "source": [
        "# squeezing a tensor"
      ],
      "metadata": {
        "id": "Z91P7Es47Kpa"
      }
    },
    {
      "cell_type": "code",
      "source": [
        "tensor=tf.constant(tf.random.uniform(shape=[50]),shape=(1,1,1,1,50))\n",
        "tensor"
      ],
      "metadata": {
        "colab": {
          "base_uri": "https://localhost:8080/"
        },
        "id": "eiWtYbom7NqU",
        "outputId": "a30d3395-5b97-4e6e-9dbf-8d02d24c2b18"
      },
      "execution_count": 428,
      "outputs": [
        {
          "output_type": "execute_result",
          "data": {
            "text/plain": [
              "<tf.Tensor: shape=(1, 1, 1, 1, 50), dtype=float32, numpy=\n",
              "array([[[[[0.68789124, 0.48447883, 0.9309944 , 0.252187  , 0.73115396,\n",
              "           0.89256823, 0.94674826, 0.7493341 , 0.34925628, 0.54718256,\n",
              "           0.26160395, 0.69734323, 0.11962581, 0.53484344, 0.7148968 ,\n",
              "           0.87501776, 0.33967495, 0.17377627, 0.4418521 , 0.9008261 ,\n",
              "           0.13803864, 0.12217975, 0.5754491 , 0.9417181 , 0.9186585 ,\n",
              "           0.59708476, 0.6109482 , 0.82086265, 0.83269787, 0.8915849 ,\n",
              "           0.01377225, 0.49807465, 0.57503664, 0.6856195 , 0.75972784,\n",
              "           0.908944  , 0.40900218, 0.8765154 , 0.53890026, 0.42733097,\n",
              "           0.401173  , 0.66623247, 0.16348064, 0.18220246, 0.97040176,\n",
              "           0.06139731, 0.53034747, 0.9869994 , 0.4746945 , 0.8646754 ]]]]],\n",
              "      dtype=float32)>"
            ]
          },
          "metadata": {},
          "execution_count": 428
        }
      ]
    },
    {
      "cell_type": "code",
      "source": [
        "tensor_squeezed=tf.squeeze(tensor)\n",
        "tensor_squeezed"
      ],
      "metadata": {
        "colab": {
          "base_uri": "https://localhost:8080/"
        },
        "id": "lTR2ruyc72W_",
        "outputId": "1dc60803-a6f2-499c-b8ab-81003b3eadd0"
      },
      "execution_count": 429,
      "outputs": [
        {
          "output_type": "execute_result",
          "data": {
            "text/plain": [
              "<tf.Tensor: shape=(50,), dtype=float32, numpy=\n",
              "array([0.68789124, 0.48447883, 0.9309944 , 0.252187  , 0.73115396,\n",
              "       0.89256823, 0.94674826, 0.7493341 , 0.34925628, 0.54718256,\n",
              "       0.26160395, 0.69734323, 0.11962581, 0.53484344, 0.7148968 ,\n",
              "       0.87501776, 0.33967495, 0.17377627, 0.4418521 , 0.9008261 ,\n",
              "       0.13803864, 0.12217975, 0.5754491 , 0.9417181 , 0.9186585 ,\n",
              "       0.59708476, 0.6109482 , 0.82086265, 0.83269787, 0.8915849 ,\n",
              "       0.01377225, 0.49807465, 0.57503664, 0.6856195 , 0.75972784,\n",
              "       0.908944  , 0.40900218, 0.8765154 , 0.53890026, 0.42733097,\n",
              "       0.401173  , 0.66623247, 0.16348064, 0.18220246, 0.97040176,\n",
              "       0.06139731, 0.53034747, 0.9869994 , 0.4746945 , 0.8646754 ],\n",
              "      dtype=float32)>"
            ]
          },
          "metadata": {},
          "execution_count": 429
        }
      ]
    },
    {
      "cell_type": "markdown",
      "source": [
        "#One hot encoding"
      ],
      "metadata": {
        "id": "92sXjVHu9Ldl"
      }
    },
    {
      "cell_type": "code",
      "source": [
        "listtt=[0,1,2,3,4]\n",
        "tf.one_hot(listtt,depth=5)"
      ],
      "metadata": {
        "colab": {
          "base_uri": "https://localhost:8080/"
        },
        "id": "lM63f5u19Plj",
        "outputId": "54d93fe9-01e9-470b-b0f0-070ea9c4a564"
      },
      "execution_count": 430,
      "outputs": [
        {
          "output_type": "execute_result",
          "data": {
            "text/plain": [
              "<tf.Tensor: shape=(5, 5), dtype=float32, numpy=\n",
              "array([[1., 0., 0., 0., 0.],\n",
              "       [0., 1., 0., 0., 0.],\n",
              "       [0., 0., 1., 0., 0.],\n",
              "       [0., 0., 0., 1., 0.],\n",
              "       [0., 0., 0., 0., 1.]], dtype=float32)>"
            ]
          },
          "metadata": {},
          "execution_count": 430
        }
      ]
    },
    {
      "cell_type": "markdown",
      "source": [
        "# SOME MORE TENSOR OPERATIONS"
      ],
      "metadata": {
        "id": "pKEdbNTp-DDJ"
      }
    },
    {
      "cell_type": "code",
      "source": [
        "tensor=tf.range(1,10)\n",
        "tensor"
      ],
      "metadata": {
        "colab": {
          "base_uri": "https://localhost:8080/"
        },
        "id": "AL3oQy2O-Ha2",
        "outputId": "698e3b46-c13e-4d86-c0a3-06c0cc99d069"
      },
      "execution_count": 431,
      "outputs": [
        {
          "output_type": "execute_result",
          "data": {
            "text/plain": [
              "<tf.Tensor: shape=(9,), dtype=int32, numpy=array([1, 2, 3, 4, 5, 6, 7, 8, 9], dtype=int32)>"
            ]
          },
          "metadata": {},
          "execution_count": 431
        }
      ]
    },
    {
      "cell_type": "code",
      "source": [
        "tf.square(tensor)"
      ],
      "metadata": {
        "colab": {
          "base_uri": "https://localhost:8080/"
        },
        "id": "qmLrCIdO-RmA",
        "outputId": "2366e7e4-7077-45bf-c9d9-0f6007ce4092"
      },
      "execution_count": 432,
      "outputs": [
        {
          "output_type": "execute_result",
          "data": {
            "text/plain": [
              "<tf.Tensor: shape=(9,), dtype=int32, numpy=array([ 1,  4,  9, 16, 25, 36, 49, 64, 81], dtype=int32)>"
            ]
          },
          "metadata": {},
          "execution_count": 432
        }
      ]
    },
    {
      "cell_type": "code",
      "source": [
        "tensor=tf.cast(tensor,dtype=tf.float32)"
      ],
      "metadata": {
        "id": "9RLQzU_0-f8d"
      },
      "execution_count": 433,
      "outputs": []
    },
    {
      "cell_type": "code",
      "source": [
        "tf.sqrt(tensor)"
      ],
      "metadata": {
        "colab": {
          "base_uri": "https://localhost:8080/"
        },
        "id": "tCzHagk5-XLU",
        "outputId": "f5ae6dc7-c4fe-4a76-c543-a29b877cc461"
      },
      "execution_count": 434,
      "outputs": [
        {
          "output_type": "execute_result",
          "data": {
            "text/plain": [
              "<tf.Tensor: shape=(9,), dtype=float32, numpy=\n",
              "array([1.       , 1.4142135, 1.7320508, 2.       , 2.236068 , 2.4494898,\n",
              "       2.6457512, 2.828427 , 3.       ], dtype=float32)>"
            ]
          },
          "metadata": {},
          "execution_count": 434
        }
      ]
    },
    {
      "cell_type": "code",
      "source": [
        "tf.math.log(tensor)"
      ],
      "metadata": {
        "colab": {
          "base_uri": "https://localhost:8080/"
        },
        "id": "zrGP5cR--6zY",
        "outputId": "8e701a53-9339-492f-bc2e-2167f98ba843"
      },
      "execution_count": 435,
      "outputs": [
        {
          "output_type": "execute_result",
          "data": {
            "text/plain": [
              "<tf.Tensor: shape=(9,), dtype=float32, numpy=\n",
              "array([0.       , 0.6931472, 1.0986123, 1.3862944, 1.609438 , 1.7917595,\n",
              "       1.9459102, 2.0794415, 2.1972246], dtype=float32)>"
            ]
          },
          "metadata": {},
          "execution_count": 435
        }
      ]
    },
    {
      "cell_type": "markdown",
      "source": [
        "#Convertng a numpy array to tensor"
      ],
      "metadata": {
        "id": "fi6EHTbRR-un"
      }
    },
    {
      "cell_type": "code",
      "source": [
        "a=tf.constant(np.array([3.,7.,10.]))\n",
        "a"
      ],
      "metadata": {
        "colab": {
          "base_uri": "https://localhost:8080/"
        },
        "id": "Gx9_p5egSELE",
        "outputId": "f98b7dc4-a25e-434a-c47c-35d10a684213"
      },
      "execution_count": 436,
      "outputs": [
        {
          "output_type": "execute_result",
          "data": {
            "text/plain": [
              "<tf.Tensor: shape=(3,), dtype=float64, numpy=array([ 3.,  7., 10.])>"
            ]
          },
          "metadata": {},
          "execution_count": 436
        }
      ]
    },
    {
      "cell_type": "code",
      "source": [
        "b=np.array(tf.constant([2,3,4,5]))\n",
        "b"
      ],
      "metadata": {
        "colab": {
          "base_uri": "https://localhost:8080/"
        },
        "id": "hLVCL0WbSL5E",
        "outputId": "4a712911-5f3c-442b-d43e-41a813db7e84"
      },
      "execution_count": 437,
      "outputs": [
        {
          "output_type": "execute_result",
          "data": {
            "text/plain": [
              "array([2, 3, 4, 5], dtype=int32)"
            ]
          },
          "metadata": {},
          "execution_count": 437
        }
      ]
    }
  ]
}